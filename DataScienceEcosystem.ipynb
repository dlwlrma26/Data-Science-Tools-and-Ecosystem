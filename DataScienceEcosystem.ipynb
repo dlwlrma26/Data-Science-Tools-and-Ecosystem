{
 "cells": [
  {
   "cell_type": "markdown",
   "id": "fea0e7ee-89fd-4dda-b425-3c5bde449b60",
   "metadata": {},
   "source": [
    "# Data Science Tools and Ecosystem"
   ]
  },
  {
   "cell_type": "markdown",
   "id": "ae268a06-856d-4c18-b2d7-24c01797839d",
   "metadata": {},
   "source": [
    "## In this notebook, Data Science Tools and Ecosystem are summarized."
   ]
  },
  {
   "cell_type": "markdown",
   "id": "93aacca4-6262-4558-9e56-a6242ed62a4a",
   "metadata": {},
   "source": [
    "## Objectives:\n",
    "### - List of some of the popular languages used by Data Scientists.\n",
    "### - List of some of the commonly used libraries by Data Scientists.\n",
    "### - Some development environment open source tools used in data science."
   ]
  },
  {
   "cell_type": "markdown",
   "id": "5970fd28-3f69-4d98-acdd-a0fc5a240026",
   "metadata": {},
   "source": [
    "## Some of the popular languages that Data Scientists use are:¶\n",
    "### 1.Python\n",
    "### 2.R language\n",
    "### 3.Java"
   ]
  },
  {
   "cell_type": "markdown",
   "id": "b7143b8d-fc6e-40eb-b920-afa5ee546b82",
   "metadata": {},
   "source": [
    "## Some of the commonly used libraries used by Data Scientists include:\n",
    "### 1.NumPy\n",
    "### 2.Pandas\n",
    "### 3.Matplotlib\n",
    "### 4.Seaborn"
   ]
  },
  {
   "cell_type": "markdown",
   "id": "7feaae22-24de-41b3-a5a1-362eaeab0ddb",
   "metadata": {},
   "source": [
    "| Data Science Tools |\n",
    "|--------------------|\n",
    "| Apache Hadoop |\n",
    "| Apache Spark |\n",
    "| Apache Flink |"
   ]
  },
  {
   "cell_type": "markdown",
   "id": "c9650c76-c115-47c0-ab4c-004fab1f0817",
   "metadata": {},
   "source": [
    "### Below are a few examples of evaluating arithmetic expressions in Python"
   ]
  },
  {
   "cell_type": "code",
   "execution_count": 14,
   "id": "e5876e35-398e-493c-8f05-681c215739f7",
   "metadata": {},
   "outputs": [
    {
     "data": {
      "text/plain": [
       "17"
      ]
     },
     "execution_count": 14,
     "metadata": {},
     "output_type": "execute_result"
    }
   ],
   "source": [
    "# This is simple arithmetic expression to multiply then add integers\n",
    "(3*4)+5"
   ]
  },
  {
   "cell_type": "code",
   "execution_count": 16,
   "id": "e3e4925b-b6ef-40b7-83d4-9df02f7260b6",
   "metadata": {},
   "outputs": [
    {
     "data": {
      "text/plain": [
       "3.3333333333333335"
      ]
     },
     "execution_count": 16,
     "metadata": {},
     "output_type": "execute_result"
    }
   ],
   "source": [
    "# This will convert 200 minutes to hours by diving by 60\n",
    "200/60"
   ]
  },
  {
   "cell_type": "markdown",
   "id": "07ce7c7d-c9d9-450c-92be-f3b236483a4c",
   "metadata": {},
   "source": [
    "## Author\n",
    "## Arjun Maddipatla"
   ]
  },
  {
   "cell_type": "code",
   "execution_count": null,
   "id": "b783ab6b-5217-4b2a-b6cd-4307946feadc",
   "metadata": {},
   "outputs": [],
   "source": []
  }
 ],
 "metadata": {
  "kernelspec": {
   "display_name": "Python [conda env:base] *",
   "language": "python",
   "name": "conda-base-py"
  },
  "language_info": {
   "codemirror_mode": {
    "name": "ipython",
    "version": 3
   },
   "file_extension": ".py",
   "mimetype": "text/x-python",
   "name": "python",
   "nbconvert_exporter": "python",
   "pygments_lexer": "ipython3",
   "version": "3.12.7"
  }
 },
 "nbformat": 4,
 "nbformat_minor": 5
}
